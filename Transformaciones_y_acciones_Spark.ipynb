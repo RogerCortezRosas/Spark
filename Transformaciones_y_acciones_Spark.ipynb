{
  "nbformat": 4,
  "nbformat_minor": 0,
  "metadata": {
    "colab": {
      "provenance": []
    },
    "kernelspec": {
      "name": "python3",
      "display_name": "Python 3"
    },
    "language_info": {
      "name": "python"
    }
  },
  "cells": [
    {
      "cell_type": "code",
      "execution_count": 2,
      "metadata": {
        "id": "kef6V3nGmsj4"
      },
      "outputs": [],
      "source": [
        "from pyspark import SparkContext\n",
        "from pyspark.sql import SparkSession"
      ]
    },
    {
      "cell_type": "markdown",
      "source": [
        "Un RDD (Resilient Distributed Dataset) es la estructura básica de datos en Spark.\n",
        "Es una colección de datos distribuida en varios nodos de un cluster y permite realizar operaciones en paralelo."
      ],
      "metadata": {
        "id": "UkL-fJyEpwfb"
      }
    },
    {
      "cell_type": "code",
      "source": [
        "# Crea un contexto de Spark , para hacer la conexion entre mi codigo y el motor de Spark\n",
        "#master = 'local' -> significa que spark se ejecutara en la maquina local usando solo nucleo de CPU 'local[*]' para usar todos los nucleos disponibles ,, En un entorno distribuido, podrías usar algo como 'yarn' o 'spark://<host>:<port>'.\n",
        "# El parámetro appName define el nombre de la aplicación en Spark, útil para monitorear el trabajo en la interfaz web de Spark UI.\n",
        "sc = SparkContext(master = 'local',appName =  'TransformacionesAcciones')"
      ],
      "metadata": {
        "id": "sAp14WPznopu",
        "colab": {
          "base_uri": "https://localhost:8080/",
          "height": 217
        },
        "outputId": "1e89d311-813a-4ba1-a8cc-968891584ca4"
      },
      "execution_count": 49,
      "outputs": [
        {
          "output_type": "error",
          "ename": "ValueError",
          "evalue": "Cannot run multiple SparkContexts at once; existing SparkContext(app=DataFrameExample, master=local[*]) created by getOrCreate at <ipython-input-6-ca4da2a712d8>:2 ",
          "traceback": [
            "\u001b[0;31m---------------------------------------------------------------------------\u001b[0m",
            "\u001b[0;31mValueError\u001b[0m                                Traceback (most recent call last)",
            "\u001b[0;32m<ipython-input-49-643ccbf91d1a>\u001b[0m in \u001b[0;36m<cell line: 0>\u001b[0;34m()\u001b[0m\n\u001b[1;32m      2\u001b[0m \u001b[0;31m#master = 'local' -> significa que spark se ejecutara en la maquina local usando solo nucleo de CPU 'local[*]' para usar todos los nucleos disponibles ,, En un entorno distribuido, podrías usar algo como 'yarn' o 'spark://<host>:<port>'.\u001b[0m\u001b[0;34m\u001b[0m\u001b[0;34m\u001b[0m\u001b[0m\n\u001b[1;32m      3\u001b[0m \u001b[0;31m# El parámetro appName define el nombre de la aplicación en Spark, útil para monitorear el trabajo en la interfaz web de Spark UI.\u001b[0m\u001b[0;34m\u001b[0m\u001b[0;34m\u001b[0m\u001b[0m\n\u001b[0;32m----> 4\u001b[0;31m \u001b[0msc\u001b[0m \u001b[0;34m=\u001b[0m \u001b[0mSparkContext\u001b[0m\u001b[0;34m(\u001b[0m\u001b[0mmaster\u001b[0m \u001b[0;34m=\u001b[0m \u001b[0;34m'local'\u001b[0m\u001b[0;34m,\u001b[0m\u001b[0mappName\u001b[0m \u001b[0;34m=\u001b[0m  \u001b[0;34m'TransformacionesAcciones'\u001b[0m\u001b[0;34m)\u001b[0m\u001b[0;34m\u001b[0m\u001b[0;34m\u001b[0m\u001b[0m\n\u001b[0m",
            "\u001b[0;32m/usr/local/lib/python3.11/dist-packages/pyspark/context.py\u001b[0m in \u001b[0;36m__init__\u001b[0;34m(self, master, appName, sparkHome, pyFiles, environment, batchSize, serializer, conf, gateway, jsc, profiler_cls, udf_profiler_cls, memory_profiler_cls)\u001b[0m\n\u001b[1;32m    199\u001b[0m             )\n\u001b[1;32m    200\u001b[0m \u001b[0;34m\u001b[0m\u001b[0m\n\u001b[0;32m--> 201\u001b[0;31m         \u001b[0mSparkContext\u001b[0m\u001b[0;34m.\u001b[0m\u001b[0m_ensure_initialized\u001b[0m\u001b[0;34m(\u001b[0m\u001b[0mself\u001b[0m\u001b[0;34m,\u001b[0m \u001b[0mgateway\u001b[0m\u001b[0;34m=\u001b[0m\u001b[0mgateway\u001b[0m\u001b[0;34m,\u001b[0m \u001b[0mconf\u001b[0m\u001b[0;34m=\u001b[0m\u001b[0mconf\u001b[0m\u001b[0;34m)\u001b[0m\u001b[0;34m\u001b[0m\u001b[0;34m\u001b[0m\u001b[0m\n\u001b[0m\u001b[1;32m    202\u001b[0m         \u001b[0;32mtry\u001b[0m\u001b[0;34m:\u001b[0m\u001b[0;34m\u001b[0m\u001b[0;34m\u001b[0m\u001b[0m\n\u001b[1;32m    203\u001b[0m             self._do_init(\n",
            "\u001b[0;32m/usr/local/lib/python3.11/dist-packages/pyspark/context.py\u001b[0m in \u001b[0;36m_ensure_initialized\u001b[0;34m(cls, instance, gateway, conf)\u001b[0m\n\u001b[1;32m    447\u001b[0m \u001b[0;34m\u001b[0m\u001b[0m\n\u001b[1;32m    448\u001b[0m                     \u001b[0;31m# Raise error if there is already a running Spark context\u001b[0m\u001b[0;34m\u001b[0m\u001b[0;34m\u001b[0m\u001b[0m\n\u001b[0;32m--> 449\u001b[0;31m                     raise ValueError(\n\u001b[0m\u001b[1;32m    450\u001b[0m                         \u001b[0;34m\"Cannot run multiple SparkContexts at once; \"\u001b[0m\u001b[0;34m\u001b[0m\u001b[0;34m\u001b[0m\u001b[0m\n\u001b[1;32m    451\u001b[0m                         \u001b[0;34m\"existing SparkContext(app=%s, master=%s)\"\u001b[0m\u001b[0;34m\u001b[0m\u001b[0;34m\u001b[0m\u001b[0m\n",
            "\u001b[0;31mValueError\u001b[0m: Cannot run multiple SparkContexts at once; existing SparkContext(app=DataFrameExample, master=local[*]) created by getOrCreate at <ipython-input-6-ca4da2a712d8>:2 "
          ]
        }
      ]
    },
    {
      "cell_type": "code",
      "source": [
        "# Create a SparkSession\n",
        "spark = SparkSession.builder.appName(\"DataFrameExample\").getOrCreate()"
      ],
      "metadata": {
        "id": "lJMNKhuXh-9s"
      },
      "execution_count": null,
      "outputs": []
    },
    {
      "cell_type": "code",
      "source": [
        "data = [1,2,3,4]\n",
        "rdd = sc.parallelize(data)"
      ],
      "metadata": {
        "id": "9D-qQpc9pGal"
      },
      "execution_count": null,
      "outputs": []
    },
    {
      "cell_type": "code",
      "source": [
        "type(rdd)"
      ],
      "metadata": {
        "colab": {
          "base_uri": "https://localhost:8080/",
          "height": 174
        },
        "id": "_C-hnAn6q0mt",
        "outputId": "d9067ca5-1e40-43a7-e59d-cd1eb84f5617"
      },
      "execution_count": null,
      "outputs": [
        {
          "output_type": "execute_result",
          "data": {
            "text/plain": [
              "pyspark.rdd.RDD"
            ],
            "text/html": [
              "<div style=\"max-width:800px; border: 1px solid var(--colab-border-color);\"><style>\n",
              "      pre.function-repr-contents {\n",
              "        overflow-x: auto;\n",
              "        padding: 8px 12px;\n",
              "        max-height: 500px;\n",
              "      }\n",
              "\n",
              "      pre.function-repr-contents.function-repr-contents-collapsed {\n",
              "        cursor: pointer;\n",
              "        max-height: 100px;\n",
              "      }\n",
              "    </style>\n",
              "    <pre style=\"white-space: initial; background:\n",
              "         var(--colab-secondary-surface-color); padding: 8px 12px;\n",
              "         border-bottom: 1px solid var(--colab-border-color);\"><b>pyspark.rdd.RDD</b><br/>def __init__(jrdd: &#x27;JavaObject&#x27;, ctx: &#x27;SparkContext&#x27;, jrdd_deserializer: Serializer=AutoBatchedSerializer(CPickleSerializer()))</pre><pre class=\"function-repr-contents function-repr-contents-collapsed\" style=\"\"><a class=\"filepath\" style=\"display:none\" href=\"#\">/usr/local/lib/python3.11/dist-packages/pyspark/rdd.py</a>A Resilient Distributed Dataset (RDD), the basic abstraction in Spark.\n",
              "Represents an immutable, partitioned collection of elements that can be\n",
              "operated on in parallel.</pre>\n",
              "      <script>\n",
              "      if (google.colab.kernel.accessAllowed && google.colab.files && google.colab.files.view) {\n",
              "        for (const element of document.querySelectorAll('.filepath')) {\n",
              "          element.style.display = 'block'\n",
              "          element.onclick = (event) => {\n",
              "            event.preventDefault();\n",
              "            event.stopPropagation();\n",
              "            google.colab.files.view(element.textContent, 336);\n",
              "          };\n",
              "        }\n",
              "      }\n",
              "      for (const element of document.querySelectorAll('.function-repr-contents')) {\n",
              "        element.onclick = (event) => {\n",
              "          event.preventDefault();\n",
              "          event.stopPropagation();\n",
              "          element.classList.toggle('function-repr-contents-collapsed');\n",
              "        };\n",
              "      }\n",
              "      </script>\n",
              "      </div>"
            ]
          },
          "metadata": {},
          "execution_count": 5
        }
      ]
    },
    {
      "cell_type": "code",
      "source": [
        "rdd.collect()"
      ],
      "metadata": {
        "colab": {
          "base_uri": "https://localhost:8080/"
        },
        "id": "9po1g97zq5Gn",
        "outputId": "9d56e927-40ff-4a48-a8cc-fb2f88a7df7e"
      },
      "execution_count": null,
      "outputs": [
        {
          "output_type": "execute_result",
          "data": {
            "text/plain": [
              "[1, 2, 3, 4]"
            ]
          },
          "metadata": {},
          "execution_count": 4
        }
      ]
    },
    {
      "cell_type": "code",
      "source": [
        "sc"
      ],
      "metadata": {
        "colab": {
          "base_uri": "https://localhost:8080/",
          "height": 196
        },
        "id": "QIy_F4V_rCFV",
        "outputId": "cd8772ed-e2b1-480b-ce46-470c31310bcf"
      },
      "execution_count": null,
      "outputs": [
        {
          "output_type": "execute_result",
          "data": {
            "text/plain": [
              "<SparkContext master=local appName=TransformacionesAcciones>"
            ],
            "text/html": [
              "\n",
              "        <div>\n",
              "            <p><b>SparkContext</b></p>\n",
              "\n",
              "            <p><a href=\"http://c5a868700f02:4040\">Spark UI</a></p>\n",
              "\n",
              "            <dl>\n",
              "              <dt>Version</dt>\n",
              "                <dd><code>v3.5.4</code></dd>\n",
              "              <dt>Master</dt>\n",
              "                <dd><code>local</code></dd>\n",
              "              <dt>AppName</dt>\n",
              "                <dd><code>TransformacionesAcciones</code></dd>\n",
              "            </dl>\n",
              "        </div>\n",
              "        "
            ]
          },
          "metadata": {},
          "execution_count": 8
        }
      ]
    },
    {
      "cell_type": "code",
      "source": [
        "path = '/content/drive/MyDrive/Spark/files/'"
      ],
      "metadata": {
        "id": "aAxE8TFr1SYO"
      },
      "execution_count": 8,
      "outputs": []
    },
    {
      "cell_type": "markdown",
      "source": [
        "# Obtencion csv con spark Cntext"
      ],
      "metadata": {
        "id": "7qRy6oATBoVx"
      }
    },
    {
      "cell_type": "code",
      "source": [
        "# Obtyencion de archivo csv con spark Context\n",
        "equiposOlimpicosRDD = sc.textFile(path + 'paises.csv').map(lambda line : line.split(\",\"))"
      ],
      "metadata": {
        "id": "IRya65pS-kxB"
      },
      "execution_count": null,
      "outputs": []
    },
    {
      "cell_type": "code",
      "source": [
        "equiposOlimpicosRDD.take(10)"
      ],
      "metadata": {
        "colab": {
          "base_uri": "https://localhost:8080/"
        },
        "id": "G0uaeNg2Blv1",
        "outputId": "2dc85558-0d24-4bf0-f0b6-7fceaf01306d"
      },
      "execution_count": null,
      "outputs": [
        {
          "output_type": "execute_result",
          "data": {
            "text/plain": [
              "[['id', 'equipo', 'sigla'],\n",
              " ['1', '30. Februar', 'AUT'],\n",
              " ['2', 'A North American Team', 'MEX'],\n",
              " ['3', 'Acipactli', 'MEX'],\n",
              " ['4', 'Acturus', 'ARG'],\n",
              " ['5', 'Afghanistan', 'AFG'],\n",
              " ['6', 'Akatonbo', 'IRL'],\n",
              " ['7', 'Alain IV', 'SUI'],\n",
              " ['8', 'Albania', 'ALB'],\n",
              " ['9', 'Alcaid', 'POR']]"
            ]
          },
          "metadata": {},
          "execution_count": 5
        }
      ]
    },
    {
      "cell_type": "code",
      "source": [
        " # ver cuantos paises participaron\n",
        "equiposOlimpicosRDD.map(lambda x : (x[2])).distinct().count()# x[2] el elemnto 2 de cada lista\n"
      ],
      "metadata": {
        "colab": {
          "base_uri": "https://localhost:8080/"
        },
        "id": "agqVQ3p9N1sk",
        "outputId": "6e68cf1d-207c-4f91-8977-281454a91eff"
      },
      "execution_count": null,
      "outputs": [
        {
          "output_type": "execute_result",
          "data": {
            "text/plain": [
              "231"
            ]
          },
          "metadata": {},
          "execution_count": 6
        }
      ]
    },
    {
      "cell_type": "code",
      "source": [
        "#Cuenta los rdd dentro de los primeros 20 milisegundos\n",
        "equiposOlimpicosRDD.countApprox(20)"
      ],
      "metadata": {
        "colab": {
          "base_uri": "https://localhost:8080/"
        },
        "id": "9cpOd16hZ_sR",
        "outputId": "fd408296-94eb-44fa-d8a6-7ca414ef38f6"
      },
      "execution_count": null,
      "outputs": [
        {
          "output_type": "execute_result",
          "data": {
            "text/plain": [
              "1185"
            ]
          },
          "metadata": {},
          "execution_count": 18
        }
      ]
    },
    {
      "cell_type": "code",
      "source": [
        "# ver los primeros elementos para ver el campo en comun entre equiposRDD y deportistaRDD\n",
        "equiposOlimpicosRDD.show(2)"
      ],
      "metadata": {
        "id": "wifLfnalCMZF"
      },
      "execution_count": null,
      "outputs": []
    },
    {
      "cell_type": "code",
      "source": [
        "#Importamos los csv deportista y deportista2\n",
        "deportistaRDD = sc.textFile(path + 'deportista.csv').map(lambda line : line.split(\",\"))\n",
        "deportista2RDD = sc.textFile(path + 'deportista2.csv').map(lambda line : line.split(\",\"))"
      ],
      "metadata": {
        "id": "k2pBm_9vbTzV",
        "colab": {
          "base_uri": "https://localhost:8080/",
          "height": 176
        },
        "outputId": "d16c4be7-437b-43dd-a4e3-666fec99557c"
      },
      "execution_count": null,
      "outputs": [
        {
          "output_type": "error",
          "ename": "AttributeError",
          "evalue": "'SparkSession' object has no attribute 'textFile'",
          "traceback": [
            "\u001b[0;31m---------------------------------------------------------------------------\u001b[0m",
            "\u001b[0;31mAttributeError\u001b[0m                            Traceback (most recent call last)",
            "\u001b[0;32m<ipython-input-9-0f5713819b34>\u001b[0m in \u001b[0;36m<cell line: 0>\u001b[0;34m()\u001b[0m\n\u001b[1;32m      1\u001b[0m \u001b[0;31m#Importamos los csv deportista y deportista2\u001b[0m\u001b[0;34m\u001b[0m\u001b[0;34m\u001b[0m\u001b[0m\n\u001b[0;32m----> 2\u001b[0;31m \u001b[0mdeportistaRDD\u001b[0m \u001b[0;34m=\u001b[0m \u001b[0mspark\u001b[0m\u001b[0;34m.\u001b[0m\u001b[0mtextFile\u001b[0m\u001b[0;34m(\u001b[0m\u001b[0mpath\u001b[0m \u001b[0;34m+\u001b[0m \u001b[0;34m'deportista.csv'\u001b[0m\u001b[0;34m)\u001b[0m\u001b[0;34m.\u001b[0m\u001b[0mmap\u001b[0m\u001b[0;34m(\u001b[0m\u001b[0;32mlambda\u001b[0m \u001b[0mline\u001b[0m \u001b[0;34m:\u001b[0m \u001b[0mline\u001b[0m\u001b[0;34m.\u001b[0m\u001b[0msplit\u001b[0m\u001b[0;34m(\u001b[0m\u001b[0;34m\",\"\u001b[0m\u001b[0;34m)\u001b[0m\u001b[0;34m)\u001b[0m\u001b[0;34m\u001b[0m\u001b[0;34m\u001b[0m\u001b[0m\n\u001b[0m\u001b[1;32m      3\u001b[0m \u001b[0mdeportista2RDD\u001b[0m \u001b[0;34m=\u001b[0m \u001b[0mspark\u001b[0m\u001b[0;34m.\u001b[0m\u001b[0mtextFile\u001b[0m\u001b[0;34m(\u001b[0m\u001b[0mpath\u001b[0m \u001b[0;34m+\u001b[0m \u001b[0;34m'deportista2.csv'\u001b[0m\u001b[0;34m)\u001b[0m\u001b[0;34m.\u001b[0m\u001b[0mmap\u001b[0m\u001b[0;34m(\u001b[0m\u001b[0;32mlambda\u001b[0m \u001b[0mline\u001b[0m \u001b[0;34m:\u001b[0m \u001b[0mline\u001b[0m\u001b[0;34m.\u001b[0m\u001b[0msplit\u001b[0m\u001b[0;34m(\u001b[0m\u001b[0;34m\",\"\u001b[0m\u001b[0;34m)\u001b[0m\u001b[0;34m)\u001b[0m\u001b[0;34m\u001b[0m\u001b[0;34m\u001b[0m\u001b[0m\n",
            "\u001b[0;31mAttributeError\u001b[0m: 'SparkSession' object has no attribute 'textFile'"
          ]
        }
      ]
    },
    {
      "cell_type": "code",
      "source": [
        "# Hacemos la union de los dos rdd\n",
        "deportistaRDD = deportistaRDD.union(deportista2RDD)"
      ],
      "metadata": {
        "id": "LW6AbmB8B8IK"
      },
      "execution_count": null,
      "outputs": []
    },
    {
      "cell_type": "code",
      "source": [
        "#contamos la cantidad de rdds\n",
        "deportistaRDD.count()"
      ],
      "metadata": {
        "id": "fDoteOhTCAFE"
      },
      "execution_count": null,
      "outputs": []
    },
    {
      "cell_type": "code",
      "source": [
        "deportistaRDD.show()\n"
      ],
      "metadata": {
        "id": "_o3CXFtrCTWG"
      },
      "execution_count": null,
      "outputs": []
    },
    {
      "cell_type": "markdown",
      "source": [
        "## Obtener equipo y deportista"
      ],
      "metadata": {
        "id": "q2zenMh6KOTC"
      }
    },
    {
      "cell_type": "code",
      "source": [
        "# es id de equiposRDD y equipo_id de deportistsRDD lo que los une\n",
        "# Se selecciona la última columna del RDD (equipo_id) que es valor eje y el resto de contenidos\n",
        " # Se selecciona solo el id que es el valor eje y la sigla del país\n",
        "\n",
        "\n",
        "deportistasEquipos = deportistaRDD.map(lambda line : [line[-1],line[:-1]]).join(equiposOlimpicosRDD.map(lambda x : [x[0],x[2]]))#.takeSample(False,6,25)  #False si quiero que no se repitan , 6 cuantos quiero en la salida  y 25 la semilla de aleatoriedad"
      ],
      "metadata": {
        "id": "mA-xN140bTdq"
      },
      "execution_count": null,
      "outputs": []
    },
    {
      "cell_type": "code",
      "source": [
        "lista_deportisata_equipo = deportistaRDD.map(lambda line : [line[-1],line[:-1]]).join(equiposOlimpicosRDD.map(lambda x : [x[0],x[2]])).top(10)\n"
      ],
      "metadata": {
        "id": "ScMnvxBMHjxt"
      },
      "execution_count": null,
      "outputs": []
    },
    {
      "cell_type": "code",
      "source": [
        "lista_deportisata_equipo[:]"
      ],
      "metadata": {
        "colab": {
          "base_uri": "https://localhost:8080/"
        },
        "id": "CJ56oxwSJMNB",
        "outputId": "4023367f-1f04-4e97-e8b3-7336fdae3967"
      },
      "execution_count": null,
      "outputs": [
        {
          "output_type": "execute_result",
          "data": {
            "text/plain": [
              "[('999', (['92679', 'Trygve Bjarne Pedersen', '1', '35', '0', '0'], 'NOR')),\n",
              " ('999', (['1144', 'Henrik Agersborg', '1', '47', '0', '0'], 'NOR')),\n",
              " ('999', (['10765', 'Einar Berntsen', '1', '28', '0', '0'], 'NOR')),\n",
              " ('998',\n",
              "  (['111659', 'G. Bernard Bernie Skinner', '1', '34', '182', '82'], 'CAN')),\n",
              " ('996', (['116030', 'Edward Eddy Stutterheim', '1', '39', '0', '0'], 'NED')),\n",
              " ('995', (['71728', 'Gordon Frederick Love', '1', '26', '0', '0'], 'FRA')),\n",
              " ('995', (['101553', 'Louis Roche', '1', '0', '0', '0'], 'FRA')),\n",
              " ('994', (['87856', 'Leo Anthony O Connell', '1', '20', '0', '0'], 'USA')),\n",
              " ('994', (['55319', 'Johnson', '1', '0', '0', '0'], 'USA')),\n",
              " ('994', (['53520', 'Henry Wood Jameson', '1', '21', '0', '0'], 'USA'))]"
            ]
          },
          "metadata": {},
          "execution_count": 31
        }
      ]
    },
    {
      "cell_type": "code",
      "source": [
        "lista_deportisata_equipo[1][0]"
      ],
      "metadata": {
        "colab": {
          "base_uri": "https://localhost:8080/",
          "height": 35
        },
        "id": "CneOccoOJAwQ",
        "outputId": "2ec38d97-eeba-4a88-e10e-3cdb9268cd1e"
      },
      "execution_count": null,
      "outputs": [
        {
          "output_type": "execute_result",
          "data": {
            "text/plain": [
              "'999'"
            ],
            "application/vnd.google.colaboratory.intrinsic+json": {
              "type": "string"
            }
          },
          "metadata": {},
          "execution_count": 27
        }
      ]
    },
    {
      "cell_type": "code",
      "source": [
        "lista_deportisata_equipo[1][0][0]"
      ],
      "metadata": {
        "colab": {
          "base_uri": "https://localhost:8080/",
          "height": 35
        },
        "id": "3hx3mLnZI1Eb",
        "outputId": "a3c7ef7f-36a1-4a45-aabd-1753fa1b2604"
      },
      "execution_count": null,
      "outputs": [
        {
          "output_type": "execute_result",
          "data": {
            "text/plain": [
              "'9'"
            ],
            "application/vnd.google.colaboratory.intrinsic+json": {
              "type": "string"
            }
          },
          "metadata": {},
          "execution_count": 28
        }
      ]
    },
    {
      "cell_type": "code",
      "source": [
        "deportistasEquipos.map(lambda x : (x[1][0][0],x[1][0][1:],x[1][1])).top(2)"
      ],
      "metadata": {
        "colab": {
          "base_uri": "https://localhost:8080/"
        },
        "id": "gh5pMaopPVmF",
        "outputId": "b82b83de-402d-416a-ce1c-c7d1a1b22b78"
      },
      "execution_count": null,
      "outputs": [
        {
          "output_type": "execute_result",
          "data": {
            "text/plain": [
              "[('99999', ['Alexander Grant Alick Rennie', '1', '32', '182', '71'], 'RSA'),\n",
              " ('99998', ['Robert John Bob Renney', '1', '21', '178', '90'], 'AUS')]"
            ]
          },
          "metadata": {},
          "execution_count": 29
        }
      ]
    },
    {
      "cell_type": "code",
      "source": [
        "# obtenemos info de resultado\n",
        "resultado = sc.textFile(path + 'resultados.csv').map(lambda line : line.split(\",\"))"
      ],
      "metadata": {
        "id": "hFr9QjWRqs9a"
      },
      "execution_count": null,
      "outputs": []
    },
    {
      "cell_type": "code",
      "source": [
        "resultado.take(7)"
      ],
      "metadata": {
        "colab": {
          "base_uri": "https://localhost:8080/"
        },
        "id": "4xWAVdPmqs6R",
        "outputId": "0e0795ec-7de9-4360-d228-59209295848e"
      },
      "execution_count": null,
      "outputs": [
        {
          "output_type": "execute_result",
          "data": {
            "text/plain": [
              "[['resultado_id', 'medalla', 'deportista_id', 'juego_id', 'evento_id'],\n",
              " ['1', 'NA', '1', '39', '1'],\n",
              " ['2', 'NA', '2', '49', '2'],\n",
              " ['3', 'NA', '3', '7', '3'],\n",
              " ['4', 'Gold', '4', '2', '4'],\n",
              " ['5', 'NA', '5', '36', '5'],\n",
              " ['6', 'NA', '5', '36', '6']]"
            ]
          },
          "metadata": {},
          "execution_count": 33
        }
      ]
    },
    {
      "cell_type": "code",
      "source": [
        "#Filtrar solo a los que ganaron medalla\n",
        "resultado = resultado.filter(lambda l : 'NA' not in l[1])"
      ],
      "metadata": {
        "id": "5iZH-Heaqs3m"
      },
      "execution_count": null,
      "outputs": []
    },
    {
      "cell_type": "code",
      "source": [
        "resultado.take(3)"
      ],
      "metadata": {
        "colab": {
          "base_uri": "https://localhost:8080/"
        },
        "id": "MueorzIdqs0n",
        "outputId": "9618df7e-e82b-4764-e48f-bc7f2eede21a"
      },
      "execution_count": null,
      "outputs": [
        {
          "output_type": "execute_result",
          "data": {
            "text/plain": [
              "[['resultado_id', 'medalla', 'deportista_id', 'juego_id', 'evento_id'],\n",
              " ['4', 'Gold', '4', '2', '4'],\n",
              " ['38', 'Bronze', '15', '7', '19']]"
            ]
          },
          "metadata": {},
          "execution_count": 35
        }
      ]
    },
    {
      "cell_type": "code",
      "source": [
        "deportistaRDD.top(2)\n",
        "\n"
      ],
      "metadata": {
        "colab": {
          "base_uri": "https://localhost:8080/"
        },
        "id": "agsg1tQXQy7l",
        "outputId": "8ec0a157-de46-4867-a040-0467328429a5"
      },
      "execution_count": null,
      "outputs": [
        {
          "output_type": "execute_result",
          "data": {
            "text/plain": [
              "[['deportista_id', 'nombre', 'genero', 'edad', 'altura', 'peso', 'equipo_id'],\n",
              " ['99999', 'Alexander Grant Alick Rennie', '1', '32', '182', '71', '967']]"
            ]
          },
          "metadata": {},
          "execution_count": 39
        }
      ]
    },
    {
      "cell_type": "code",
      "source": [
        "equiposOlimpicosRDD.top(2)"
      ],
      "metadata": {
        "colab": {
          "base_uri": "https://localhost:8080/"
        },
        "id": "cFwuUAtxQ0ij",
        "outputId": "d7b15326-ecfa-406e-fa6f-61cbaebacf07"
      },
      "execution_count": null,
      "outputs": [
        {
          "output_type": "execute_result",
          "data": {
            "text/plain": [
              "[['id', 'equipo', 'sigla'], ['999', 'Stella-2', 'NOR']]"
            ]
          },
          "metadata": {},
          "execution_count": 40
        }
      ]
    },
    {
      "cell_type": "code",
      "source": [
        "# Juntamos el RDD de deportistas ,equiposcon el de resultado\n",
        "\n",
        "# 1er parte juntamos deportistas con y sus equipos\n",
        "deportistas_Equipos = deportistaRDD.map(lambda line : [line[-1],line[:-1]]).join(equiposOlimpicosRDD.map(lambda x : [x[0],x[2]]))\n"
      ],
      "metadata": {
        "id": "i8HPuOeOqsx3"
      },
      "execution_count": null,
      "outputs": []
    },
    {
      "cell_type": "code",
      "source": [
        "deportistas_Equipos.takeSample(False,6,25)"
      ],
      "metadata": {
        "colab": {
          "base_uri": "https://localhost:8080/"
        },
        "id": "1chgzRiWVrMx",
        "outputId": "46fbb096-03be-4d59-ee42-32583d3521d4"
      },
      "execution_count": null,
      "outputs": [
        {
          "output_type": "execute_result",
          "data": {
            "text/plain": [
              "[('308', (['117713', 'Ahmed Amin Tabouzada', '1', '0', '0', '0'], 'EGY')),\n",
              " ('96', (['95174', 'Dsir Piryns', '1', '0', '0', '0'], 'BEL')),\n",
              " ('1178', (['99228', 'Viktor Ravnik', '1', '22', '179', '80'], 'YUG')),\n",
              " ('888', (['52248', 'Vaipava Nevo Ioane', '1', '28', '152', '62'], 'SAM')),\n",
              " ('716', (['108017', 'Neville Ian Scott', '1', '21', '187', '74'], 'NZL')),\n",
              " ('1019', (['39331', 'Werner Geeser', '1', '23', '182', '68'], 'SUI'))]"
            ]
          },
          "metadata": {},
          "execution_count": 50
        }
      ]
    },
    {
      "cell_type": "code",
      "source": [
        "deportistas_Equipos.map(lambda x  : (x[1][0][0],(x[1][0][1:],x[1][1]))).take(2)"
      ],
      "metadata": {
        "colab": {
          "base_uri": "https://localhost:8080/"
        },
        "id": "hqxLnFVzmY_Q",
        "outputId": "246a89e2-1c83-4b1f-8d1c-e65ed808de84"
      },
      "execution_count": null,
      "outputs": [
        {
          "output_type": "execute_result",
          "data": {
            "text/plain": [
              "[('1', (['A Dijiang', '1', '24', '180', '80'], 'CHN')),\n",
              " ('2', (['A Lamusi', '1', '23', '170', '60'], 'CHN'))]"
            ]
          },
          "metadata": {},
          "execution_count": 80
        }
      ]
    },
    {
      "cell_type": "code",
      "source": [
        "# 2da parte Juntamos con los resultados obteniendo las medallas de cada deportista haciendo la union con el deportista_id\n",
        "deportistasGanadores = deportistas_Equipos.map(lambda x  : (x[1][0][0],(x[1][0][1:],x[1][1]))).join(resultado.map(lambda y : (y[2],y[1])))"
      ],
      "metadata": {
        "id": "HEZOfVAng2A2"
      },
      "execution_count": null,
      "outputs": []
    },
    {
      "cell_type": "code",
      "source": [
        "deportistasGanadores.take(2)"
      ],
      "metadata": {
        "colab": {
          "base_uri": "https://localhost:8080/"
        },
        "id": "qlQ06pcDjNc2",
        "outputId": "6d9b45b0-d576-4e5a-a73c-2c58d99c4a4f"
      },
      "execution_count": null,
      "outputs": [
        {
          "output_type": "execute_result",
          "data": {
            "text/plain": [
              "[('17996', ((['Cao Mianying', '2', '21', '176', '71'], 'CHN'), 'Silver')),\n",
              " ('18005', ((['Cao Yuan', '1', '17', '160', '42'], 'CHN'), 'Gold'))]"
            ]
          },
          "metadata": {},
          "execution_count": 81
        }
      ]
    },
    {
      "cell_type": "markdown",
      "source": [
        "Obtenemos los puntajes de cada pais de acuerdo al valor de las medallas"
      ],
      "metadata": {
        "id": "Eujy_aVTWEvZ"
      }
    },
    {
      "cell_type": "code",
      "source": [
        "# Diccionario valores de las medallas\n",
        "valoresMedallas = {'Gold':7,'Silver':5,'Bronze':4}"
      ],
      "metadata": {
        "id": "xqZwIaZMWJyT"
      },
      "execution_count": null,
      "outputs": []
    },
    {
      "cell_type": "code",
      "source": [
        "# primer parte se reduce la tupla\n",
        "# x[1][0][1] -> Iniciales pais\n",
        "# x[1][1] -> tipo de medalla\n",
        "deportistasGanadores.map(lambda x : (x[1][0][1],x[1][1])).take(2)"
      ],
      "metadata": {
        "colab": {
          "base_uri": "https://localhost:8080/"
        },
        "id": "z3aerEm_Xyxj",
        "outputId": "f40e32a5-fdf0-4fc9-8ec7-4cc6a018a4e6"
      },
      "execution_count": null,
      "outputs": [
        {
          "output_type": "execute_result",
          "data": {
            "text/plain": [
              "[('CHN', 'Silver'), ('CHN', 'Gold')]"
            ]
          },
          "metadata": {},
          "execution_count": 82
        }
      ]
    },
    {
      "cell_type": "code",
      "source": [
        "# Segunda parte obtenemos los valores de cada medalla\n",
        "deportistasGanadores.map(lambda x : (x[1][0][1],valoresMedallas[x[1][1]])).take(2)"
      ],
      "metadata": {
        "colab": {
          "base_uri": "https://localhost:8080/"
        },
        "id": "VZfQNek7WZ82",
        "outputId": "e9fd002f-6871-445f-ad9a-bfebcab1e85b"
      },
      "execution_count": null,
      "outputs": [
        {
          "output_type": "execute_result",
          "data": {
            "text/plain": [
              "[('CHN', 5), ('CHN', 7)]"
            ]
          },
          "metadata": {},
          "execution_count": 83
        }
      ]
    },
    {
      "cell_type": "code",
      "source": [
        "# Guardamos en una  variable el rdd donde esta pais , puntos por medalla\n",
        "paisesPuntos = deportistasGanadores.map(lambda x : (x[1][0][1],valoresMedallas[x[1][1]]))"
      ],
      "metadata": {
        "id": "opUFn6j-WZ52"
      },
      "execution_count": null,
      "outputs": []
    },
    {
      "cell_type": "code",
      "source": [
        "paisesPuntos.take(2)"
      ],
      "metadata": {
        "colab": {
          "base_uri": "https://localhost:8080/"
        },
        "id": "6TWwgoC6WZ3D",
        "outputId": "e81afbfc-5078-4cc5-cf88-7494c16e138c"
      },
      "execution_count": null,
      "outputs": [
        {
          "output_type": "execute_result",
          "data": {
            "text/plain": [
              "[('CHN', 5), ('CHN', 7)]"
            ]
          },
          "metadata": {},
          "execution_count": 85
        }
      ]
    },
    {
      "cell_type": "code",
      "source": [
        "# hacemos la sumatoria por pais y ordenamos los resultados\n",
        "from operator import add\n",
        "conclusion = paisesPuntos.reduceByKey((add)).sortBy(lambda x : x[1],ascending = False)\n"
      ],
      "metadata": {
        "id": "Z0u5ylKNWZzb"
      },
      "execution_count": null,
      "outputs": []
    },
    {
      "cell_type": "code",
      "source": [
        "conclusion.take(10)"
      ],
      "metadata": {
        "colab": {
          "base_uri": "https://localhost:8080/"
        },
        "id": "Y6ZBMLFHaKHf",
        "outputId": "fa76c341-a037-467d-dc6d-419c1f338bd4"
      },
      "execution_count": null,
      "outputs": [
        {
          "output_type": "execute_result",
          "data": {
            "text/plain": [
              "[('USA', 32137),\n",
              " ('URS', 14834),\n",
              " ('GBR', 10925),\n",
              " ('GER', 10896),\n",
              " ('FRA', 9265),\n",
              " ('ITA', 8755),\n",
              " ('SWE', 8110),\n",
              " ('CAN', 7209),\n",
              " ('AUS', 6755),\n",
              " ('HUN', 6142)]"
            ]
          },
          "metadata": {},
          "execution_count": 87
        }
      ]
    },
    {
      "cell_type": "markdown",
      "source": [
        "# Obtencion de archivos csv con Spark Session"
      ],
      "metadata": {
        "id": "_zCqYRMTCsFS"
      }
    },
    {
      "cell_type": "code",
      "source": [
        "#Obtencion de archivo csv con spark session , cuando se hace la lectura con spak session se transforma en dataframe y con context en rdd\n",
        "deportistaOlimpicoDF= spark.read.csv(path + 'deportista.csv',header = True)\n",
        "deportistaOlimpico2DF= spark.read.csv(path + 'deportista2.csv',header = True)"
      ],
      "metadata": {
        "id": "oOuCVTCsCqsz"
      },
      "execution_count": 12,
      "outputs": []
    },
    {
      "cell_type": "code",
      "source": [
        "# Union de los 2 Data Frame\n",
        "DeportistaDF = deportistaOlimpicoDF.union(deportistaOlimpico2DF)"
      ],
      "metadata": {
        "id": "6rkGp7cVD9eI"
      },
      "execution_count": 13,
      "outputs": []
    },
    {
      "cell_type": "markdown",
      "source": [
        "# Dataframes"
      ],
      "metadata": {
        "id": "eHbA11Cc0gZm"
      }
    },
    {
      "cell_type": "code",
      "source": [
        "from pyspark import SparkContext\n",
        "from pyspark.sql import SparkSession\n",
        "from pyspark.storagelevel import StorageLevel\n",
        "import pyspark.sql\n",
        "from pyspark.sql import SQLContext\n",
        "from pyspark.sql.functions import *\n",
        "from pyspark.sql.types import StructType, StructField, IntegerType, StringType,FloatType\n",
        "from pyspark.sql.types import Row"
      ],
      "metadata": {
        "id": "HJazRjXZc933"
      },
      "execution_count": 4,
      "outputs": []
    },
    {
      "cell_type": "code",
      "source": [
        "path = '/content/drive/MyDrive/Spark/files'"
      ],
      "metadata": {
        "id": "SIQ8IMEh65iB"
      },
      "execution_count": 5,
      "outputs": []
    },
    {
      "cell_type": "markdown",
      "source": [
        "Creacion de schema"
      ],
      "metadata": {
        "id": "mWAQVm4_Gj2u"
      }
    },
    {
      "cell_type": "code",
      "source": [
        "juegosSchema = StructType([StructField('juego_id',IntegerType(),False),# False si es obligatorio\n",
        "                           StructField('nombre_juego',StringType(),False),\n",
        "                           StructField(\"año\",StringType(),False),\n",
        "                           StructField(\"temporada\",StringType(),False),\n",
        "                           StructField(\"ciudad\",StringType(),False)])"
      ],
      "metadata": {
        "id": "0ocIenZo65ec"
      },
      "execution_count": null,
      "outputs": []
    },
    {
      "cell_type": "markdown",
      "source": [
        "Lectura de schema"
      ],
      "metadata": {
        "id": "l7zP6qAXGmcL"
      }
    },
    {
      "cell_type": "code",
      "source": [
        "# Create a SparkSession\n",
        "spark = SparkSession.builder.appName(\"DataFrameExample\").getOrCreate()\n"
      ],
      "metadata": {
        "id": "s-feVSrMJNsR"
      },
      "execution_count": 6,
      "outputs": []
    },
    {
      "cell_type": "markdown",
      "source": [
        "Transformacion de RDD -> Df"
      ],
      "metadata": {
        "id": "u-FQplZQDjJ0"
      }
    },
    {
      "cell_type": "code",
      "source": [
        "# \"header\", \"true\" → Le dice a Spark que la primera fila del CSV contiene los nombres de las columnas.\n",
        "juegoDF = spark.read.schema(juegosSchema).option (\"header\",\"true\").csv(path + '/juegos.csv')"
      ],
      "metadata": {
        "id": "ORbfNYIU65Vc",
        "colab": {
          "base_uri": "https://localhost:8080/",
          "height": 159
        },
        "outputId": "8b87b534-5955-4303-a036-4d30ca1e6860"
      },
      "execution_count": 7,
      "outputs": [
        {
          "output_type": "error",
          "ename": "NameError",
          "evalue": "name 'juegosSchema' is not defined",
          "traceback": [
            "\u001b[0;31m---------------------------------------------------------------------------\u001b[0m",
            "\u001b[0;31mNameError\u001b[0m                                 Traceback (most recent call last)",
            "\u001b[0;32m<ipython-input-7-206bb3bdfeb7>\u001b[0m in \u001b[0;36m<cell line: 0>\u001b[0;34m()\u001b[0m\n\u001b[1;32m      1\u001b[0m \u001b[0;31m# \"header\", \"true\" → Le dice a Spark que la primera fila del CSV contiene los nombres de las columnas.\u001b[0m\u001b[0;34m\u001b[0m\u001b[0;34m\u001b[0m\u001b[0m\n\u001b[0;32m----> 2\u001b[0;31m \u001b[0mjuegoDF\u001b[0m \u001b[0;34m=\u001b[0m \u001b[0mspark\u001b[0m\u001b[0;34m.\u001b[0m\u001b[0mread\u001b[0m\u001b[0;34m.\u001b[0m\u001b[0mschema\u001b[0m\u001b[0;34m(\u001b[0m\u001b[0mjuegosSchema\u001b[0m\u001b[0;34m)\u001b[0m\u001b[0;34m.\u001b[0m\u001b[0moption\u001b[0m \u001b[0;34m(\u001b[0m\u001b[0;34m\"header\"\u001b[0m\u001b[0;34m,\u001b[0m\u001b[0;34m\"true\"\u001b[0m\u001b[0;34m)\u001b[0m\u001b[0;34m.\u001b[0m\u001b[0mcsv\u001b[0m\u001b[0;34m(\u001b[0m\u001b[0mpath\u001b[0m \u001b[0;34m+\u001b[0m \u001b[0;34m'/juegos.csv'\u001b[0m\u001b[0;34m)\u001b[0m\u001b[0;34m\u001b[0m\u001b[0;34m\u001b[0m\u001b[0m\n\u001b[0m",
            "\u001b[0;31mNameError\u001b[0m: name 'juegosSchema' is not defined"
          ]
        }
      ]
    },
    {
      "cell_type": "code",
      "source": [
        "juegoDF.show(5)"
      ],
      "metadata": {
        "colab": {
          "base_uri": "https://localhost:8080/"
        },
        "id": "3YWN8V3f65R_",
        "outputId": "8d71da5d-3cab-4a9c-e2f2-e0567ff77a1c"
      },
      "execution_count": null,
      "outputs": [
        {
          "output_type": "stream",
          "name": "stdout",
          "text": [
            "+--------+------------+----+---------+---------+\n",
            "|juego_id|nombre_juego| año|temporada|   ciudad|\n",
            "+--------+------------+----+---------+---------+\n",
            "|       1| 1896 Verano|1896|   Verano|   Athina|\n",
            "|       2| 1900 Verano|1900|   Verano|    Paris|\n",
            "|       3| 1904 Verano|1904|   Verano|St. Louis|\n",
            "|       4| 1906 Verano|1906|   Verano|   Athina|\n",
            "|       5| 1908 Verano|1908|   Verano|   London|\n",
            "+--------+------------+----+---------+---------+\n",
            "only showing top 5 rows\n",
            "\n"
          ]
        }
      ]
    },
    {
      "cell_type": "code",
      "source": [
        "spark"
      ],
      "metadata": {
        "colab": {
          "base_uri": "https://localhost:8080/",
          "height": 219
        },
        "id": "lbqmHUlB65Oi",
        "outputId": "984f183c-9648-4070-b70d-97d038f58a95"
      },
      "execution_count": null,
      "outputs": [
        {
          "output_type": "execute_result",
          "data": {
            "text/plain": [
              "<pyspark.sql.session.SparkSession at 0x7bcebd8eae50>"
            ],
            "text/html": [
              "\n",
              "            <div>\n",
              "                <p><b>SparkSession - in-memory</b></p>\n",
              "                \n",
              "        <div>\n",
              "            <p><b>SparkContext</b></p>\n",
              "\n",
              "            <p><a href=\"http://60dde5ffe660:4040\">Spark UI</a></p>\n",
              "\n",
              "            <dl>\n",
              "              <dt>Version</dt>\n",
              "                <dd><code>v3.5.4</code></dd>\n",
              "              <dt>Master</dt>\n",
              "                <dd><code>local</code></dd>\n",
              "              <dt>AppName</dt>\n",
              "                <dd><code>TransformacionesAcciones</code></dd>\n",
              "            </dl>\n",
              "        </div>\n",
              "        \n",
              "            </div>\n",
              "        "
            ]
          },
          "metadata": {},
          "execution_count": 97
        }
      ]
    },
    {
      "cell_type": "code",
      "source": [
        "deportistaRDD.show()"
      ],
      "metadata": {
        "colab": {
          "base_uri": "https://localhost:8080/"
        },
        "id": "E1UJGfcuolbn",
        "outputId": "728de473-4a04-43db-c84d-ed5a67723b2b"
      },
      "execution_count": null,
      "outputs": [
        {
          "output_type": "stream",
          "name": "stdout",
          "text": [
            "+-------------+--------------------+------+----+------+----+---------+\n",
            "|deportista_id|              nombre|genero|edad|altura|peso|equipo_id|\n",
            "+-------------+--------------------+------+----+------+----+---------+\n",
            "|            1|           A Dijiang|     1|  24|   180|  80|      199|\n",
            "|            2|            A Lamusi|     1|  23|   170|  60|      199|\n",
            "|            3| Gunnar Nielsen Aaby|     1|  24|     0|   0|      273|\n",
            "|            4|Edgar Lindenau Aabye|     1|  34|     0|   0|      278|\n",
            "|            5|Christine Jacoba ...|     2|  21|   185|  82|      705|\n",
            "|            6|     Per Knut Aaland|     1|  31|   188|  75|     1096|\n",
            "|            7|        John Aalberg|     1|  31|   183|  72|     1096|\n",
            "|            8|Cornelia Cor Aalt...|     2|  18|   168|   0|      705|\n",
            "|            9|    Antti Sami Aalto|     1|  26|   186|  96|      350|\n",
            "|           10|Einar Ferdinand E...|     1|  26|     0|   0|      350|\n",
            "|           11|  Jorma Ilmari Aalto|     1|  22|   182|76.5|      350|\n",
            "|           12|   Jyri Tapani Aalto|     1|  31|   172|  70|      350|\n",
            "|           13|  Minna Maarit Aalto|     2|  30|   159|55.5|      350|\n",
            "|           14|Pirjo Hannele Aal...|     2|  32|   171|  65|      350|\n",
            "|           15|Arvo Ossian Aaltonen|     1|  22|     0|   0|      350|\n",
            "|           16|Juhamatti Tapio A...|     1|  28|   184|  85|      350|\n",
            "|           17|Paavo Johannes Aa...|     1|  28|   175|  64|      350|\n",
            "|           18|Timo Antero Aaltonen|     1|  31|   189| 130|      350|\n",
            "|           19|Win Valdemar Aalt...|     1|  54|     0|   0|      350|\n",
            "|           20|  Kjetil Andr Aamodt|     1|  20|   176|  85|      742|\n",
            "+-------------+--------------------+------+----+------+----+---------+\n",
            "only showing top 20 rows\n",
            "\n"
          ]
        }
      ]
    },
    {
      "cell_type": "code",
      "source": [
        "type(deportistaRDD)"
      ],
      "metadata": {
        "colab": {
          "base_uri": "https://localhost:8080/",
          "height": 187
        },
        "id": "8m2iUc7zqlj1",
        "outputId": "b3dee215-5ae1-4f2a-de0f-a54f6fa7384d"
      },
      "execution_count": null,
      "outputs": [
        {
          "output_type": "execute_result",
          "data": {
            "text/plain": [
              "pyspark.sql.dataframe.DataFrame"
            ],
            "text/html": [
              "<div style=\"max-width:800px; border: 1px solid var(--colab-border-color);\"><style>\n",
              "      pre.function-repr-contents {\n",
              "        overflow-x: auto;\n",
              "        padding: 8px 12px;\n",
              "        max-height: 500px;\n",
              "      }\n",
              "\n",
              "      pre.function-repr-contents.function-repr-contents-collapsed {\n",
              "        cursor: pointer;\n",
              "        max-height: 100px;\n",
              "      }\n",
              "    </style>\n",
              "    <pre style=\"white-space: initial; background:\n",
              "         var(--colab-secondary-surface-color); padding: 8px 12px;\n",
              "         border-bottom: 1px solid var(--colab-border-color);\"><b>pyspark.sql.dataframe.DataFrame</b><br/>def __init__(jdf: JavaObject, sql_ctx: Union[&#x27;SQLContext&#x27;, &#x27;SparkSession&#x27;])</pre><pre class=\"function-repr-contents function-repr-contents-collapsed\" style=\"\"><a class=\"filepath\" style=\"display:none\" href=\"#\">/usr/local/lib/python3.11/dist-packages/pyspark/sql/dataframe.py</a>A distributed collection of data grouped into named columns.\n",
              "\n",
              ".. versionadded:: 1.3.0\n",
              "\n",
              ".. versionchanged:: 3.4.0\n",
              "    Supports Spark Connect.\n",
              "\n",
              "Examples\n",
              "--------\n",
              "A :class:`DataFrame` is equivalent to a relational table in Spark SQL,\n",
              "and can be created using various functions in :class:`SparkSession`:\n",
              "\n",
              "&gt;&gt;&gt; people = spark.createDataFrame([\n",
              "...     {&quot;deptId&quot;: 1, &quot;age&quot;: 40, &quot;name&quot;: &quot;Hyukjin Kwon&quot;, &quot;gender&quot;: &quot;M&quot;, &quot;salary&quot;: 50},\n",
              "...     {&quot;deptId&quot;: 1, &quot;age&quot;: 50, &quot;name&quot;: &quot;Takuya Ueshin&quot;, &quot;gender&quot;: &quot;M&quot;, &quot;salary&quot;: 100},\n",
              "...     {&quot;deptId&quot;: 2, &quot;age&quot;: 60, &quot;name&quot;: &quot;Xinrong Meng&quot;, &quot;gender&quot;: &quot;F&quot;, &quot;salary&quot;: 150},\n",
              "...     {&quot;deptId&quot;: 3, &quot;age&quot;: 20, &quot;name&quot;: &quot;Haejoon Lee&quot;, &quot;gender&quot;: &quot;M&quot;, &quot;salary&quot;: 200}\n",
              "... ])\n",
              "\n",
              "Once created, it can be manipulated using the various domain-specific-language\n",
              "(DSL) functions defined in: :class:`DataFrame`, :class:`Column`.\n",
              "\n",
              "To select a column from the :class:`DataFrame`, use the apply method:\n",
              "\n",
              "&gt;&gt;&gt; age_col = people.age\n",
              "\n",
              "A more concrete example:\n",
              "\n",
              "&gt;&gt;&gt; # To create DataFrame using SparkSession\n",
              "... department = spark.createDataFrame([\n",
              "...     {&quot;id&quot;: 1, &quot;name&quot;: &quot;PySpark&quot;},\n",
              "...     {&quot;id&quot;: 2, &quot;name&quot;: &quot;ML&quot;},\n",
              "...     {&quot;id&quot;: 3, &quot;name&quot;: &quot;Spark SQL&quot;}\n",
              "... ])\n",
              "\n",
              "&gt;&gt;&gt; people.filter(people.age &gt; 30).join(\n",
              "...     department, people.deptId == department.id).groupBy(\n",
              "...     department.name, &quot;gender&quot;).agg({&quot;salary&quot;: &quot;avg&quot;, &quot;age&quot;: &quot;max&quot;}).show()\n",
              "+-------+------+-----------+--------+\n",
              "|   name|gender|avg(salary)|max(age)|\n",
              "+-------+------+-----------+--------+\n",
              "|     ML|     F|      150.0|      60|\n",
              "|PySpark|     M|       75.0|      50|\n",
              "+-------+------+-----------+--------+\n",
              "\n",
              "Notes\n",
              "-----\n",
              "A DataFrame should only be created as described above. It should not be directly\n",
              "created via using the constructor.</pre>\n",
              "      <script>\n",
              "      if (google.colab.kernel.accessAllowed && google.colab.files && google.colab.files.view) {\n",
              "        for (const element of document.querySelectorAll('.filepath')) {\n",
              "          element.style.display = 'block'\n",
              "          element.onclick = (event) => {\n",
              "            event.preventDefault();\n",
              "            event.stopPropagation();\n",
              "            google.colab.files.view(element.textContent, 80);\n",
              "          };\n",
              "        }\n",
              "      }\n",
              "      for (const element of document.querySelectorAll('.function-repr-contents')) {\n",
              "        element.onclick = (event) => {\n",
              "          event.preventDefault();\n",
              "          event.stopPropagation();\n",
              "          element.classList.toggle('function-repr-contents-collapsed');\n",
              "        };\n",
              "      }\n",
              "      </script>\n",
              "      </div>"
            ]
          },
          "metadata": {},
          "execution_count": 29
        }
      ]
    },
    {
      "cell_type": "code",
      "source": [
        "# Cambiar los tipos de datos del dataframe DeportistaDF\n",
        "dict_tipos = {'deportista_id':IntegerType(),'genero':IntegerType(),'edad':IntegerType(),'altura':IntegerType(),'peso':FloatType(),'equipo_id':IntegerType()}\n",
        "\n",
        "for col,tipo in dict_tipos.items():\n",
        "  DeportistaDF = DeportistaDF.withColumn(col,DeportistaDF[col].cast(tipo))\n"
      ],
      "metadata": {
        "id": "gqDv-sl2jCcu"
      },
      "execution_count": 14,
      "outputs": []
    },
    {
      "cell_type": "code",
      "source": [
        "DeportistaDF.dtypes"
      ],
      "metadata": {
        "colab": {
          "base_uri": "https://localhost:8080/"
        },
        "id": "GHDf2maB0Zwl",
        "outputId": "3cf5302a-5307-47b7-981b-58e85ef19025"
      },
      "execution_count": 15,
      "outputs": [
        {
          "output_type": "execute_result",
          "data": {
            "text/plain": [
              "[('deportista_id', 'int'),\n",
              " ('nombre', 'string'),\n",
              " ('genero', 'int'),\n",
              " ('edad', 'int'),\n",
              " ('altura', 'int'),\n",
              " ('peso', 'float'),\n",
              " ('equipo_id', 'int')]"
            ]
          },
          "metadata": {},
          "execution_count": 15
        }
      ]
    },
    {
      "cell_type": "code",
      "source": [
        "#Eliminamos columna Altura\n",
        "DeportistaDF = deportistaRDD.drop('altura')"
      ],
      "metadata": {
        "id": "EVtin-Ap4ukO"
      },
      "execution_count": null,
      "outputs": []
    },
    {
      "cell_type": "code",
      "source": [
        "# Reasignamos nombre de columnas\n",
        "DeportistaDF = DeportistaDF.withColumnRenamed('genero','sexo')"
      ],
      "metadata": {
        "id": "5cHru6Cp5JN5"
      },
      "execution_count": 16,
      "outputs": []
    },
    {
      "cell_type": "code",
      "source": [
        "DeportistaDF.columns"
      ],
      "metadata": {
        "colab": {
          "base_uri": "https://localhost:8080/"
        },
        "id": "d1cU4YZC47k7",
        "outputId": "02294c40-b689-4978-9a1a-128ca2024e1e"
      },
      "execution_count": 17,
      "outputs": [
        {
          "output_type": "execute_result",
          "data": {
            "text/plain": [
              "['deportista_id', 'nombre', 'sexo', 'edad', 'altura', 'peso', 'equipo_id']"
            ]
          },
          "metadata": {},
          "execution_count": 17
        }
      ]
    },
    {
      "cell_type": "code",
      "source": [
        "# Uso de select\n",
        "DeportistaDF.select('nombre','edad').show(5)"
      ],
      "metadata": {
        "colab": {
          "base_uri": "https://localhost:8080/"
        },
        "id": "DAXMttwV65Xn",
        "outputId": "21ed32e0-2f05-486e-ead8-1ead3c272772"
      },
      "execution_count": null,
      "outputs": [
        {
          "output_type": "stream",
          "name": "stdout",
          "text": [
            "+--------------------+----+\n",
            "|              nombre|edad|\n",
            "+--------------------+----+\n",
            "|           A Dijiang|  24|\n",
            "|            A Lamusi|  23|\n",
            "| Gunnar Nielsen Aaby|  24|\n",
            "|Edgar Lindenau Aabye|  34|\n",
            "|Christine Jacoba ...|  21|\n",
            "+--------------------+----+\n",
            "only showing top 5 rows\n",
            "\n"
          ]
        }
      ]
    },
    {
      "cell_type": "code",
      "source": [
        "import pyspark.sql.functions as f\n",
        "\n",
        "#Si usas col(), puedes encadenar métodos y hacer transformaciones más complejas,\n",
        "\n",
        "DeportistaDF = DeportistaDF.select('deportista_id','nombre','sexo',f.col('edad').alias('edadAlJugar'),'equipo_id')"
      ],
      "metadata": {
        "id": "1lNaPpxk742Z"
      },
      "execution_count": 18,
      "outputs": []
    },
    {
      "cell_type": "code",
      "source": [
        "DeportistaDF"
      ],
      "metadata": {
        "colab": {
          "base_uri": "https://localhost:8080/"
        },
        "id": "y8KD3ffQ94EP",
        "outputId": "edc025d2-d168-4024-e0a9-0a9902af404a"
      },
      "execution_count": null,
      "outputs": [
        {
          "output_type": "execute_result",
          "data": {
            "text/plain": [
              "DataFrame[deportista_id: int, nombre: string, edadAlJugar: int, equipo_id: int]"
            ]
          },
          "metadata": {},
          "execution_count": 54
        }
      ]
    },
    {
      "cell_type": "code",
      "source": [
        "#Ordenar el Dataframe segun una columna\n",
        "DeportistaDF.sort('edadAlJugar').show()"
      ],
      "metadata": {
        "colab": {
          "base_uri": "https://localhost:8080/"
        },
        "id": "6FrwHEFV-M-v",
        "outputId": "5d91fc2c-6318-4977-a52e-1aee57f1f35b"
      },
      "execution_count": null,
      "outputs": [
        {
          "output_type": "stream",
          "name": "stdout",
          "text": [
            "+-------------+--------------------+-----------+---------+\n",
            "|deportista_id|              nombre|edadAlJugar|equipo_id|\n",
            "+-------------+--------------------+-----------+---------+\n",
            "|        68312|      Beyene Legesse|          0|      332|\n",
            "|          224|     Mohamed AbdelEl|          0|      308|\n",
            "|        68652|    Adjutant Lemoine|          0|      362|\n",
            "|          487|      Inni Aboubacar|          0|      721|\n",
            "|        68315|     Douglas C. Legg|          0|      413|\n",
            "|          226|Sanad Bushara Abd...|          0|     1003|\n",
            "|        68302|         Viktor Legt|          0|      259|\n",
            "|           58|    Georgi Abadzhiev|          0|      154|\n",
            "|        68317|      Ronald H. Legg|          0|      413|\n",
            "|          230|    Moustafa Abdelal|          0|      308|\n",
            "|        67849|          Edward Lee|          0|      199|\n",
            "|          102|   Sayed Fahmy Abaza|          0|      308|\n",
            "|        68329|        Paul Legrain|          0|      362|\n",
            "|          260|  Ahmed Abdo Mustafa|          0|     1003|\n",
            "|        67799|        Lee Chak Men|          0|      929|\n",
            "|          139|George Ioannis Abbot|          0|     1043|\n",
            "|        68334|        mile Legrand|          0|      364|\n",
            "|          281|      S. Abdul Hamid|          0|      487|\n",
            "|        67918|        Henry H. Lee|          0|      413|\n",
            "|          163|     Ismail Abdallah|          0|     1095|\n",
            "+-------------+--------------------+-----------+---------+\n",
            "only showing top 20 rows\n",
            "\n"
          ]
        }
      ]
    },
    {
      "cell_type": "code",
      "source": [
        "#Filtramos los deportistas que sean diferentes de cero\n",
        "DeportistaDF = DeportistaDF.filter(DeportistaDF.edadAlJugar != 0)"
      ],
      "metadata": {
        "id": "uJ0xceJ7-SjF"
      },
      "execution_count": 19,
      "outputs": []
    },
    {
      "cell_type": "code",
      "source": [
        "DeportistaDF.sort('edadAlJugar').show()"
      ],
      "metadata": {
        "colab": {
          "base_uri": "https://localhost:8080/"
        },
        "id": "T1pCGTct-77a",
        "outputId": "0e7696eb-ceaa-44cc-da1d-f346254f45e1"
      },
      "execution_count": 20,
      "outputs": [
        {
          "output_type": "stream",
          "name": "stdout",
          "text": [
            "+-------------+--------------------+----+-----------+---------+\n",
            "|deportista_id|              nombre|sexo|edadAlJugar|equipo_id|\n",
            "+-------------+--------------------+----+-----------+---------+\n",
            "|        71691|  Dimitrios Loundras|   1|         10|      333|\n",
            "|        22411|Magdalena Cecilia...|   2|         11|      413|\n",
            "|        70616|          Liu Luyang|   2|         11|      199|\n",
            "|        37333|Carlos Bienvenido...|   1|         11|      982|\n",
            "|        76675|   Marcelle Matthews|   2|         11|      967|\n",
            "|        40129|    Luigina Giavotti|   2|         11|      507|\n",
            "|       118925|Megan Olwen Deven...|   2|         11|      413|\n",
            "|        47618|Sonja Henie Toppi...|   2|         11|      742|\n",
            "|       126307|        Liana Vicens|   2|         11|      825|\n",
            "|        51268|      Beatrice Hutiu|   2|         11|      861|\n",
            "|        52070|        Etsuko Inada|   2|         11|      514|\n",
            "|        72854|      Licia Macchini|   2|         12|      507|\n",
            "|         5291|Marcia Arriaga La...|   2|         12|      656|\n",
            "|        74712|     Carla Marangoni|   2|         12|      507|\n",
            "|        24191| Philippe Cuelenaere|   1|         12|       96|\n",
            "|        74755|Luciana Marcellin...|   2|         12|      507|\n",
            "|        25877|Olga Lucia de Ang...|   2|         12|      225|\n",
            "|        84913|      Clstine N Drin|   2|         12|      237|\n",
            "|        31203|Patricia Anne Pat...|   2|         12|      967|\n",
            "|        96664|Dorothy PoyntonHi...|   2|         12|     1096|\n",
            "+-------------+--------------------+----+-----------+---------+\n",
            "only showing top 20 rows\n",
            "\n"
          ]
        }
      ]
    },
    {
      "cell_type": "code",
      "source": [
        "#Obtencion de paises\n",
        "paises = spark.read.csv(path + 'paises.csv',header=True)"
      ],
      "metadata": {
        "id": "-Db_JPr_0k6B"
      },
      "execution_count": 21,
      "outputs": []
    },
    {
      "cell_type": "code",
      "source": [
        "paises.dtypes"
      ],
      "metadata": {
        "colab": {
          "base_uri": "https://localhost:8080/"
        },
        "id": "w2yWiYqa07Mo",
        "outputId": "8e0d6fa8-27ef-4a41-8620-99eb13fccdc0"
      },
      "execution_count": null,
      "outputs": [
        {
          "output_type": "execute_result",
          "data": {
            "text/plain": [
              "[('id', 'string'), ('equipo', 'string'), ('sigla', 'string')]"
            ]
          },
          "metadata": {},
          "execution_count": 35
        }
      ]
    },
    {
      "cell_type": "code",
      "source": [
        "paises = paises.withColumn('id',paises['id'].cast(IntegerType()))"
      ],
      "metadata": {
        "id": "5dHdv_T807Jr"
      },
      "execution_count": 22,
      "outputs": []
    },
    {
      "cell_type": "code",
      "source": [
        "paises.show(5)"
      ],
      "metadata": {
        "colab": {
          "base_uri": "https://localhost:8080/"
        },
        "id": "ACInqULTbI8m",
        "outputId": "a78573cc-1417-47c5-b30a-fc556e8a4a9c"
      },
      "execution_count": null,
      "outputs": [
        {
          "output_type": "stream",
          "name": "stdout",
          "text": [
            "+---+--------------------+-----+\n",
            "| id|              equipo|sigla|\n",
            "+---+--------------------+-----+\n",
            "|  1|         30. Februar|  AUT|\n",
            "|  2|A North American ...|  MEX|\n",
            "|  3|           Acipactli|  MEX|\n",
            "|  4|             Acturus|  ARG|\n",
            "|  5|         Afghanistan|  AFG|\n",
            "+---+--------------------+-----+\n",
            "only showing top 5 rows\n",
            "\n"
          ]
        }
      ]
    },
    {
      "cell_type": "code",
      "source": [
        "# Obtencion de evento\n",
        "eventoDF = spark.read.csv(path + 'evento.csv',header=True)"
      ],
      "metadata": {
        "id": "zCVVb8A-XFUO"
      },
      "execution_count": 23,
      "outputs": []
    },
    {
      "cell_type": "code",
      "source": [
        "eventoDF.show(3)"
      ],
      "metadata": {
        "colab": {
          "base_uri": "https://localhost:8080/"
        },
        "id": "FZt9psJZXhLa",
        "outputId": "771e37e4-1e4a-4abc-eacd-fa84d13e1ba1"
      },
      "execution_count": 24,
      "outputs": [
        {
          "output_type": "stream",
          "name": "stdout",
          "text": [
            "+---------+--------------------+----------+\n",
            "|evento_id|              evento|deporte_id|\n",
            "+---------+--------------------+----------+\n",
            "|        1|Basketball Men's ...|         1|\n",
            "|        2|Judo Men's Extra-...|         2|\n",
            "|        3|Football Men's Fo...|         3|\n",
            "+---------+--------------------+----------+\n",
            "only showing top 3 rows\n",
            "\n"
          ]
        }
      ]
    },
    {
      "cell_type": "code",
      "source": [
        "eventoDF.dtypes"
      ],
      "metadata": {
        "colab": {
          "base_uri": "https://localhost:8080/"
        },
        "id": "OmbFNOJKXwVL",
        "outputId": "21e09ade-e0a2-46c0-dd87-86691e23af22"
      },
      "execution_count": 25,
      "outputs": [
        {
          "output_type": "execute_result",
          "data": {
            "text/plain": [
              "[('evento_id', 'string'), ('evento', 'string'), ('deporte_id', 'string')]"
            ]
          },
          "metadata": {},
          "execution_count": 25
        }
      ]
    },
    {
      "cell_type": "code",
      "source": [
        "eventoDF = eventoDF.withColumn('evento_id',eventoDF['evento_id'].cast(IntegerType()))\n"
      ],
      "metadata": {
        "id": "aYicZur6qICF"
      },
      "execution_count": 26,
      "outputs": []
    },
    {
      "cell_type": "code",
      "source": [
        "#Obtewncion de resultados\n",
        "resultados = spark.read.csv(path + 'resultados.csv',header=True)"
      ],
      "metadata": {
        "id": "3j7qNRfn07G4"
      },
      "execution_count": 27,
      "outputs": []
    },
    {
      "cell_type": "code",
      "source": [
        "resultados.dtypes"
      ],
      "metadata": {
        "colab": {
          "base_uri": "https://localhost:8080/"
        },
        "id": "UU2WeZdQ2_Of",
        "outputId": "f6082c79-be0c-4fb5-b53e-6673cb295d71"
      },
      "execution_count": 28,
      "outputs": [
        {
          "output_type": "execute_result",
          "data": {
            "text/plain": [
              "[('resultado_id', 'string'),\n",
              " ('medalla', 'string'),\n",
              " ('deportista_id', 'string'),\n",
              " ('juego_id', 'string'),\n",
              " ('evento_id', 'string')]"
            ]
          },
          "metadata": {},
          "execution_count": 28
        }
      ]
    },
    {
      "cell_type": "code",
      "source": [
        "dict = {'resultado_id':IntegerType(),'medalla':StringType(),'deportista_id':IntegerType(),'juego_id':IntegerType(),'evento_id':IntegerType()}\n",
        "\n",
        "for clave,valor in dict.items():\n",
        "  resultados = resultados.withColumn(clave,resultados[clave].cast(valor))"
      ],
      "metadata": {
        "id": "lSDZBo0N3Fli"
      },
      "execution_count": 29,
      "outputs": []
    },
    {
      "cell_type": "code",
      "source": [
        "resultados.dtypes"
      ],
      "metadata": {
        "colab": {
          "base_uri": "https://localhost:8080/"
        },
        "id": "c6Aicq4z3qn4",
        "outputId": "36107afc-c230-426d-e086-86795301dafc"
      },
      "execution_count": 30,
      "outputs": [
        {
          "output_type": "execute_result",
          "data": {
            "text/plain": [
              "[('resultado_id', 'int'),\n",
              " ('medalla', 'string'),\n",
              " ('deportista_id', 'int'),\n",
              " ('juego_id', 'int'),\n",
              " ('evento_id', 'int')]"
            ]
          },
          "metadata": {},
          "execution_count": 30
        }
      ]
    },
    {
      "cell_type": "code",
      "source": [
        "resultados.printSchema()"
      ],
      "metadata": {
        "colab": {
          "base_uri": "https://localhost:8080/"
        },
        "id": "mR1ixs2h3swE",
        "outputId": "a5c12ab8-ae28-4872-bbad-30527805e994"
      },
      "execution_count": null,
      "outputs": [
        {
          "output_type": "stream",
          "name": "stdout",
          "text": [
            "root\n",
            " |-- resultado_id: integer (nullable = true)\n",
            " |-- medalla: string (nullable = true)\n",
            " |-- deportista_id: integer (nullable = true)\n",
            " |-- juego_id: integer (nullable = true)\n",
            " |-- evento_id: integer (nullable = true)\n",
            "\n"
          ]
        }
      ]
    },
    {
      "cell_type": "code",
      "source": [
        "#Obtencion de juegos\n",
        "juegosDF = spark.read.csv(path+'/juegos.csv',header=True)"
      ],
      "metadata": {
        "id": "S4UzLeByCb-A"
      },
      "execution_count": 31,
      "outputs": []
    },
    {
      "cell_type": "code",
      "source": [
        "#Renombramos y cambiamos tipo de datos\n",
        "juegosDF = juegosDF.select(f.col('_c0').alias('juego_id').cast(IntegerType()),'nombre_juego','annio','temporada','ciudad')"
      ],
      "metadata": {
        "id": "m9KDulPOC8Ht"
      },
      "execution_count": 32,
      "outputs": []
    },
    {
      "cell_type": "code",
      "source": [
        "juegosDF.show(5)"
      ],
      "metadata": {
        "colab": {
          "base_uri": "https://localhost:8080/"
        },
        "id": "fuQMxz1iCqbr",
        "outputId": "95bc1e76-b756-4c27-ddce-bc696c6ee981"
      },
      "execution_count": null,
      "outputs": [
        {
          "output_type": "stream",
          "name": "stdout",
          "text": [
            "+--------+------------+-----+---------+---------+\n",
            "|juego_id|nombre_juego|annio|temporada|   ciudad|\n",
            "+--------+------------+-----+---------+---------+\n",
            "|       1| 1896 Verano| 1896|   Verano|   Athina|\n",
            "|       2| 1900 Verano| 1900|   Verano|    Paris|\n",
            "|       3| 1904 Verano| 1904|   Verano|St. Louis|\n",
            "|       4| 1906 Verano| 1906|   Verano|   Athina|\n",
            "|       5| 1908 Verano| 1908|   Verano|   London|\n",
            "+--------+------------+-----+---------+---------+\n",
            "only showing top 5 rows\n",
            "\n"
          ]
        }
      ]
    },
    {
      "cell_type": "code",
      "source": [
        "juegosDF = juegosDF.withColumn('annio',juegosDF['annio'].cast(IntegerType()))"
      ],
      "metadata": {
        "id": "vnQR8PMUpVmE"
      },
      "execution_count": 33,
      "outputs": []
    },
    {
      "cell_type": "code",
      "source": [
        "juegosDF.dtypes"
      ],
      "metadata": {
        "colab": {
          "base_uri": "https://localhost:8080/"
        },
        "id": "SCBAMXK8p2Q5",
        "outputId": "346bba2f-f91d-4cc3-d4e7-925bfba22758"
      },
      "execution_count": null,
      "outputs": [
        {
          "output_type": "execute_result",
          "data": {
            "text/plain": [
              "[('juego_id', 'int'),\n",
              " ('nombre_juego', 'string'),\n",
              " ('annio', 'int'),\n",
              " ('temporada', 'string'),\n",
              " ('ciudad', 'string')]"
            ]
          },
          "metadata": {},
          "execution_count": 105
        }
      ]
    },
    {
      "cell_type": "code",
      "source": [
        "# Uso de joins para unir data frames\n",
        "DeportistaDF.join( resultados,DeportistaDF.deportista_id == resultados.deportista_id , 'left')\\\n",
        ".join(juegosDF, juegosDF.juego_id == resultados.juego_id,'left')\\\n",
        ".join(eventoDF,eventoDF.evento_id == resultados.evento_id,'left')\\\n",
        ".select('nombre','edadAlJugar','medalla',f.col('annio').alias('año'),'evento').filter(resultados.medalla!= 'NA').show(5)"
      ],
      "metadata": {
        "colab": {
          "base_uri": "https://localhost:8080/"
        },
        "id": "XzDNHGVl3ss8",
        "outputId": "24c56377-5ccc-454d-89e6-62081cbb8f04"
      },
      "execution_count": null,
      "outputs": [
        {
          "output_type": "stream",
          "name": "stdout",
          "text": [
            "+--------------------+-----------+-------+----+--------------------+\n",
            "|              nombre|edadAlJugar|medalla| año|              evento|\n",
            "+--------------------+-----------+-------+----+--------------------+\n",
            "|Edgar Lindenau Aabye|         34|   Gold|1900|Tug-Of-War Men's ...|\n",
            "|Arvo Ossian Aaltonen|         22| Bronze|1920|Swimming Men's 20...|\n",
            "|Arvo Ossian Aaltonen|         22| Bronze|1920|Swimming Men's 40...|\n",
            "|Juhamatti Tapio A...|         28| Bronze|2014|Ice Hockey Men's ...|\n",
            "|Paavo Johannes Aa...|         28| Bronze|1948|Gymnastics Men's ...|\n",
            "+--------------------+-----------+-------+----+--------------------+\n",
            "only showing top 5 rows\n",
            "\n"
          ]
        }
      ]
    },
    {
      "cell_type": "code",
      "source": [
        "# union de medalla , pais y equipo que pertenecen\n",
        "DeportistaDF.join(resultados,DeportistaDF.deportista_id == resultados.deportista_id,'left')\\\n",
        ".join(paises,paises.id == DeportistaDF.equipo_id,'left')\\\n",
        ".select('medalla','equipo','sigla').filter(resultados.medalla !='NA').show(5)"
      ],
      "metadata": {
        "colab": {
          "base_uri": "https://localhost:8080/"
        },
        "id": "1Cq_yaI53sp1",
        "outputId": "b6316974-3ffa-4ac4-9f39-dda729390ba8"
      },
      "execution_count": null,
      "outputs": [
        {
          "output_type": "stream",
          "name": "stdout",
          "text": [
            "+-------+--------------+-----+\n",
            "|medalla|        equipo|sigla|\n",
            "+-------+--------------+-----+\n",
            "|   Gold|Denmark/Sweden|  SWE|\n",
            "| Bronze|       Finland|  FIN|\n",
            "| Bronze|       Finland|  FIN|\n",
            "| Bronze|       Finland|  FIN|\n",
            "| Bronze|       Finland|  FIN|\n",
            "+-------+--------------+-----+\n",
            "only showing top 5 rows\n",
            "\n"
          ]
        }
      ]
    },
    {
      "cell_type": "code",
      "source": [
        "medallistaXAnio = DeportistaDF.join(resultados,DeportistaDF.deportista_id == resultados.deportista_id,'left')\\\n",
        ".join(juegosDF,juegosDF.juego_id == resultados.juego_id,'left')\\\n",
        ".join(paises,paises.id == DeportistaDF.equipo_id,'left')\\\n",
        ".join(eventoDF,eventoDF.evento_id == resultados.evento_id,'left')\\\n",
        ".select('sigla',f.col('annio').alias('año'),'medalla','equipo','nombre','evento')\\\n",
        ".filter(resultados.medalla !='NA')"
      ],
      "metadata": {
        "id": "Z8qpwVmd3sm3"
      },
      "execution_count": 35,
      "outputs": []
    },
    {
      "cell_type": "code",
      "source": [
        "medallista2XAnio = medallistaXAnio.groupBy('sigla','año').count()"
      ],
      "metadata": {
        "id": "oWHdA-bi3sjc"
      },
      "execution_count": 39,
      "outputs": []
    },
    {
      "cell_type": "code",
      "source": [
        "medallista2XAnio.show()"
      ],
      "metadata": {
        "colab": {
          "base_uri": "https://localhost:8080/"
        },
        "id": "PsfNSFaLn0kX",
        "outputId": "82786aae-3e6b-45c2-b6e5-aa0392f43eb4"
      },
      "execution_count": 40,
      "outputs": [
        {
          "output_type": "stream",
          "name": "stdout",
          "text": [
            "+-----+----+-----+\n",
            "|sigla| año|count|\n",
            "+-----+----+-----+\n",
            "|  USA|2012|  248|\n",
            "|  BLR|2000|   15|\n",
            "|  FRA|2006|   15|\n",
            "|  FIN|1988|   38|\n",
            "|  KOR|2010|   18|\n",
            "|  VEN|2012|    1|\n",
            "|  FRA|1948|   77|\n",
            "|  GBR|2000|   55|\n",
            "|  QAT|2012|    2|\n",
            "|  FRG|1994|    6|\n",
            "|  JPN|1932|   28|\n",
            "|  KOR|1972|    1|\n",
            "|  GER|1932|   57|\n",
            "|  AUS|1972|   20|\n",
            "|  NED|1972|   15|\n",
            "|  BAH|2008|    7|\n",
            "|  NZL|1988|   24|\n",
            "|  THA|1988|    1|\n",
            "|  POR|1988|    1|\n",
            "|  POR|2012|    2|\n",
            "+-----+----+-----+\n",
            "only showing top 20 rows\n",
            "\n"
          ]
        }
      ]
    },
    {
      "cell_type": "code",
      "source": [
        "medallista2XAnio.printSchema()"
      ],
      "metadata": {
        "colab": {
          "base_uri": "https://localhost:8080/"
        },
        "id": "Ox6auRNp3sgE",
        "outputId": "3f8d54a1-fa13-4952-9d2e-f0650d5513c9"
      },
      "execution_count": 41,
      "outputs": [
        {
          "output_type": "stream",
          "name": "stdout",
          "text": [
            "root\n",
            " |-- sigla: string (nullable = true)\n",
            " |-- año: integer (nullable = true)\n",
            " |-- count: long (nullable = false)\n",
            "\n"
          ]
        }
      ]
    },
    {
      "cell_type": "code",
      "source": [
        "# Agrupamps por medallas totales y medallas promedio\n",
        "medallista2XAnio.groupBy('sigla','año').agg(f.sum('count').alias('Total medallas'),f.avg('count').alias('Medallas promedio')).sort('año').show()"
      ],
      "metadata": {
        "colab": {
          "base_uri": "https://localhost:8080/"
        },
        "id": "khBQ36ATmG-I",
        "outputId": "eb92d0f4-20dd-416b-b0a3-464bc0a2d89e"
      },
      "execution_count": 42,
      "outputs": [
        {
          "output_type": "stream",
          "name": "stdout",
          "text": [
            "+-----+----+--------------+-----------------+\n",
            "|sigla| año|Total medallas|Medallas promedio|\n",
            "+-----+----+--------------+-----------------+\n",
            "|  DEN|1896|             6|              6.0|\n",
            "|  FRA|1896|            11|             11.0|\n",
            "|  AUT|1896|             5|              5.0|\n",
            "|  HUN|1896|             6|              6.0|\n",
            "|  GER|1896|            30|             30.0|\n",
            "|  AUS|1896|             3|              3.0|\n",
            "|  GBR|1896|             8|              8.0|\n",
            "|  USA|1896|            20|             20.0|\n",
            "|  GRE|1896|             9|              9.0|\n",
            "|  SUI|1896|             3|              3.0|\n",
            "|  IND|1900|             2|              2.0|\n",
            "|  AUS|1900|             6|              6.0|\n",
            "|  CAN|1900|             2|              2.0|\n",
            "|  ITA|1900|             5|              5.0|\n",
            "|  ESP|1900|             2|              2.0|\n",
            "|  AUT|1900|             6|              6.0|\n",
            "|  SUI|1900|            21|             21.0|\n",
            "|  DEN|1900|             7|              7.0|\n",
            "|  CUB|1900|             2|              2.0|\n",
            "|  FRA|1900|           179|            179.0|\n",
            "+-----+----+--------------+-----------------+\n",
            "only showing top 20 rows\n",
            "\n"
          ]
        }
      ]
    },
    {
      "cell_type": "markdown",
      "source": [
        "#SQL"
      ],
      "metadata": {
        "id": "MnhUroOEIqx0"
      }
    },
    {
      "cell_type": "code",
      "source": [
        "resultados.registerTempTable('resultado')\n",
        "DeportistaDF.registerTempTable('deportista')\n",
        "paises.registerTempTable('paises')\n",
        "juegosDF.registerTempTable('juegos')\n",
        "eventoDF.registerTempTable('evento')"
      ],
      "metadata": {
        "id": "Y6LPO8sMmG7P"
      },
      "execution_count": 44,
      "outputs": []
    },
    {
      "cell_type": "code",
      "source": [
        "\n",
        "spark.sql(\"SELECT * FROM resultado\").show(5)"
      ],
      "metadata": {
        "id": "JVs5cGdemG4T",
        "colab": {
          "base_uri": "https://localhost:8080/"
        },
        "outputId": "414963ce-ca41-477a-c335-45de5b9e9b4b"
      },
      "execution_count": 57,
      "outputs": [
        {
          "output_type": "stream",
          "name": "stdout",
          "text": [
            "+------------+-------+-------------+--------+---------+\n",
            "|resultado_id|medalla|deportista_id|juego_id|evento_id|\n",
            "+------------+-------+-------------+--------+---------+\n",
            "|           1|     NA|            1|      39|        1|\n",
            "|           2|     NA|            2|      49|        2|\n",
            "|           3|     NA|            3|       7|        3|\n",
            "|           4|   Gold|            4|       2|        4|\n",
            "|           5|     NA|            5|      36|        5|\n",
            "+------------+-------+-------------+--------+---------+\n",
            "only showing top 5 rows\n",
            "\n"
          ]
        }
      ]
    },
    {
      "cell_type": "code",
      "source": [
        "#Requiere mas procesamiento al usar sql\n",
        "spark.sql(\"\"\" SELECT medalla,equipo,sigla,j.annio FROM resultado r\n",
        "              JOIN deportista d\n",
        "              ON r.deportista_id = d.deportista_id\n",
        "              JOIN paises p\n",
        "              ON p.id = d.equipo_id\n",
        "              JOIN juegos j\n",
        "              ON j.juego_id = r.juego_id\n",
        "              JOIN evento e\n",
        "              ON e.evento_id = r.evento_id\n",
        "              WHERE medalla <> \"NA\"\n",
        "              GROUP BY medalla,equipo,sigla,j.annio\n",
        "              ORDER BY annio ASC\"\"\").show()"
      ],
      "metadata": {
        "colab": {
          "base_uri": "https://localhost:8080/"
        },
        "id": "eLDK8BJFL3us",
        "outputId": "4b486bc5-08b3-4963-a344-78cc5297edd1"
      },
      "execution_count": 61,
      "outputs": [
        {
          "output_type": "stream",
          "name": "stdout",
          "text": [
            "+-------+--------------------+-----+-----+\n",
            "|medalla|              equipo|sigla|annio|\n",
            "+-------+--------------------+-----+-----+\n",
            "| Silver|              France|  FRA| 1896|\n",
            "|   Gold|       United States|  USA| 1896|\n",
            "|   Gold|              Greece|  GRE| 1896|\n",
            "|   Gold|           Australia|  AUS| 1896|\n",
            "| Bronze|             Germany|  GER| 1896|\n",
            "|   Gold|             Denmark|  DEN| 1896|\n",
            "| Silver|       Great Britain|  GBR| 1896|\n",
            "| Silver|       United States|  USA| 1896|\n",
            "| Silver|             Denmark|  DEN| 1896|\n",
            "| Silver|             Austria|  AUT| 1896|\n",
            "| Bronze|Ethnikos Gymnasti...|  GRE| 1896|\n",
            "| Bronze|       United States|  USA| 1896|\n",
            "|   Gold|             Austria|  AUT| 1896|\n",
            "| Bronze|             Denmark|  DEN| 1896|\n",
            "| Bronze|       Great Britain|  GBR| 1896|\n",
            "| Bronze|              France|  FRA| 1896|\n",
            "|   Gold|             Hungary|  HUN| 1896|\n",
            "|   Gold|       Great Britain|  GBR| 1896|\n",
            "|   Gold|              France|  FRA| 1896|\n",
            "| Bronze|             Hungary|  HUN| 1896|\n",
            "+-------+--------------------+-----+-----+\n",
            "only showing top 20 rows\n",
            "\n"
          ]
        }
      ]
    },
    {
      "cell_type": "markdown",
      "source": [
        "# UDF\n",
        "Las funciones definidas por el usuario o UDF, por sus siglas en inglés, son una funcionalidad agregada en Spark para definir funciones basadas en columnas las cuales permiten extender las capacidades de Spark al momento de transformar el set de datos.\n",
        "\n",
        "Este tipo de implementaciones son convenientes cuando tenemos un desarrollo extenso donde hemos identificado la periodicidad de tareas repetitivas como suele ser en pasos de limpieza de datos, transformación o renombrado dinámico de columnas.\n",
        "\n",
        "Por lo anterior es común encontrar en un proyecto de Spark una librería independiente donde existen todas estas funciones agregadas para que los desarrolladores involucrados en el proyecto puedan usarlas a conveniencia.\n",
        "\n",
        "El uso de UDF no implica que las funciones que podemos crear nativamente con Python, Scala, R o Java no sean útiles. Una UDF tiene el objetivo de ofrecer un estándar interno en el proyecto que nos encontremos realizando. Además, en caso de ser necesario, una UDF puede ser modificada con ayuda de decoradores para que sea más extensible en diversos escenarios a los cuales nos podemos enfrentar.\n",
        "\n",
        "Otro motivo para usar UDF es que en el módulo de Spark MLlib, la librería nativa de Spark para operaciones de Machine Learning, las UDF juegan un papel vital al momento de hacer transformaciones. Por lo cual tener un uso familiar de estas ampliará considerablemente la curva de aprendizaje de Spark MLlib."
      ],
      "metadata": {
        "id": "cQq5p-gMPMNP"
      }
    },
    {
      "cell_type": "code",
      "source": [],
      "metadata": {
        "id": "SoDWfnOwRyV9"
      },
      "execution_count": null,
      "outputs": []
    },
    {
      "cell_type": "code",
      "source": [
        "spark.stop()"
      ],
      "metadata": {
        "id": "_R8rUa4465E-"
      },
      "execution_count": 62,
      "outputs": []
    },
    {
      "cell_type": "code",
      "source": [
        "sc.stop()"
      ],
      "metadata": {
        "id": "CmJHzf8jqsu8"
      },
      "execution_count": null,
      "outputs": []
    },
    {
      "cell_type": "code",
      "source": [],
      "metadata": {
        "id": "9CDNE3Z8qssP"
      },
      "execution_count": null,
      "outputs": []
    },
    {
      "cell_type": "code",
      "source": [],
      "metadata": {
        "id": "DLR0tHvbqsph"
      },
      "execution_count": null,
      "outputs": []
    }
  ]
}